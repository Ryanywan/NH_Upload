{
  "nbformat": 4,
  "nbformat_minor": 0,
  "metadata": {
    "kernelspec": {
      "display_name": "Python 3",
      "language": "python",
      "name": "python3"
    },
    "language_info": {
      "codemirror_mode": {
        "name": "ipython",
        "version": 3
      },
      "file_extension": ".py",
      "mimetype": "text/x-python",
      "name": "python",
      "nbconvert_exporter": "python",
      "pygments_lexer": "ipython3",
      "version": "3.8.5"
    },
    "colab": {
      "name": "Comprehend_AWS_Example.ipynb",
      "provenance": [],
      "include_colab_link": true
    }
  },
  "cells": [
    {
      "cell_type": "markdown",
      "metadata": {
        "id": "view-in-github",
        "colab_type": "text"
      },
      "source": [
        "<a href=\"https://colab.research.google.com/github/Ryanywan/NH_Upload/blob/main/Comprehend_AWS_Example.ipynb\" target=\"_parent\"><img src=\"https://colab.research.google.com/assets/colab-badge.svg\" alt=\"Open In Colab\"/></a>"
      ]
    },
    {
      "cell_type": "markdown",
      "metadata": {
        "id": "ze7CXKONcrVq"
      },
      "source": [
        "# AWS TTS\n",
        "## AWS Cloud에 연결하는 library - boto3를 호출합니다."
      ]
    },
    {
      "cell_type": "code",
      "metadata": {
        "id": "ZIhBaVRBcrVt"
      },
      "source": [
        "import boto3\n",
        "from boto3 import Session\n",
        "from botocore.exceptions import BotoCoreError, ClientError\n",
        "from contextlib import closing"
      ],
      "execution_count": null,
      "outputs": []
    },
    {
      "cell_type": "markdown",
      "metadata": {
        "id": "I9ZSfGzXcrVv"
      },
      "source": [
        "## Session을 통해 access key와 secret key를 입력하고 필요한 서비스를 호출합니다."
      ]
    },
    {
      "cell_type": "code",
      "metadata": {
        "id": "01EhwkACcrVv"
      },
      "source": [
        "####################### boto3를 이용하여 AWS cloud에 접속합니다. (이메일 로그인과 비슷한 방식) #######################\n",
        "# aws_access_key_id : 아이디\n",
        "# aws_secret_access_key: 패스워드\n",
        "# region_name: 호출 지역\n",
        "# client: 호출서비스\n",
        "\n",
        "comprehend_client = boto3.Session(\n",
        "    #aws_access_key_id= #개인 필수정보 1                 \n",
        "    #aws_secret_access_key=#개인 필수정보 2,\n",
        "    region_name='ap-northewest-2').client('comprehend')\n",
        "\n",
        "#text = \"It is raining today in Seattle\""
      ],
      "execution_count": null,
      "outputs": []
    },
    {
      "cell_type": "markdown",
      "metadata": {
        "id": "GM0t-wS9crVw"
      },
      "source": [
        "### Case 1: Language Check"
      ]
    },
    {
      "cell_type": "code",
      "metadata": {
        "id": "vRGXZs5ycrVx"
      },
      "source": [
        "text = \"오늘 나는 비가 와서 슬프다\""
      ],
      "execution_count": null,
      "outputs": []
    },
    {
      "cell_type": "code",
      "metadata": {
        "id": "IV4CwobVcrVx",
        "outputId": "ee304d93-2610-4c13-c1a1-56186cf32fc7"
      },
      "source": [
        "#CASE 1\n",
        "comprehend_client.detect_dominant_language(Text = text)"
      ],
      "execution_count": null,
      "outputs": [
        {
          "data": {
            "text/plain": [
              "{'Languages': [{'LanguageCode': 'ko', 'Score': 0.7333333492279053}],\n",
              " 'ResponseMetadata': {'RequestId': '85109f28-d1b2-4d9a-a3aa-d95a52f12b31',\n",
              "  'HTTPStatusCode': 200,\n",
              "  'HTTPHeaders': {'x-amzn-requestid': '85109f28-d1b2-4d9a-a3aa-d95a52f12b31',\n",
              "   'content-type': 'application/x-amz-json-1.1',\n",
              "   'content-length': '64',\n",
              "   'date': 'Wed, 01 Sep 2021 08:12:54 GMT'},\n",
              "  'RetryAttempts': 0}}"
            ]
          },
          "execution_count": 7,
          "metadata": {},
          "output_type": "execute_result"
        }
      ]
    },
    {
      "cell_type": "markdown",
      "metadata": {
        "id": "GQD69rkDcrVy"
      },
      "source": [
        "### Case 2: Sentiment Analysis"
      ]
    },
    {
      "cell_type": "code",
      "metadata": {
        "id": "F_9NDlpGcrVz",
        "outputId": "47648cdf-d077-4c49-9e57-cd0a747a0585"
      },
      "source": [
        "#CASE 2: Sentiment Analysis\n",
        "comprehend_client.detect_sentiment(Text = text, LanguageCode = 'ko')"
      ],
      "execution_count": null,
      "outputs": [
        {
          "data": {
            "text/plain": [
              "{'Sentiment': 'NEGATIVE',\n",
              " 'SentimentScore': {'Positive': 0.00015789884491823614,\n",
              "  'Negative': 0.9981966614723206,\n",
              "  'Neutral': 0.001632441533729434,\n",
              "  'Mixed': 1.3047543689026497e-05},\n",
              " 'ResponseMetadata': {'RequestId': '478c06c4-fc91-4220-ac9d-61c65ea4c74e',\n",
              "  'HTTPStatusCode': 200,\n",
              "  'HTTPHeaders': {'x-amzn-requestid': '478c06c4-fc91-4220-ac9d-61c65ea4c74e',\n",
              "   'content-type': 'application/x-amz-json-1.1',\n",
              "   'content-length': '167',\n",
              "   'date': 'Wed, 01 Sep 2021 08:13:00 GMT'},\n",
              "  'RetryAttempts': 0}}"
            ]
          },
          "execution_count": 8,
          "metadata": {},
          "output_type": "execute_result"
        }
      ]
    },
    {
      "cell_type": "code",
      "metadata": {
        "id": "RSo7pySAcrV0",
        "outputId": "79f437c6-9493-4635-f061-e152bd34d8f7"
      },
      "source": [
        "text2 = '나는 일하는게 즐겁다. 다만 플랫폼을 우리가 못 갖는게 아쉽기는하다. 이건 기분이 좋은걸까 안좋을걸까'\n",
        "comprehend_client.detect_sentiment(Text = text2, LanguageCode = 'ko')"
      ],
      "execution_count": null,
      "outputs": [
        {
          "name": "stdout",
          "output_type": "stream",
          "text": [
            "나는 일하는게 즐겁다. 다만 플랫폼을 우리가 못 갖는게 아쉽기는하다. 이건 기분이 좋은걸까 안좋을걸까\n",
            "MIXED\n"
          ]
        }
      ]
    },
    {
      "cell_type": "markdown",
      "metadata": {
        "id": "Ok9HN2GJcrV1"
      },
      "source": [
        "### Case 3: Detecting Entities"
      ]
    },
    {
      "cell_type": "code",
      "metadata": {
        "id": "RXuqiq5FcrV1",
        "outputId": "f62afe7d-e5a2-48dd-e338-23d8212b766e"
      },
      "source": [
        "text3 = '오늘의 날짜는 2021년 9월 1일. 안용우는 비 오는걸 별로 안좋아해. 우리 회사 주소는 서초구 매헌로 24 입니다.'\n",
        "comprehend_client.detect_entities(Text = text3, LanguageCode = 'ko')"
      ],
      "execution_count": null,
      "outputs": [
        {
          "data": {
            "text/plain": [
              "{'Entities': [{'Score': 0.9843338131904602,\n",
              "   'Type': 'DATE',\n",
              "   'Text': '오늘',\n",
              "   'BeginOffset': 0,\n",
              "   'EndOffset': 2},\n",
              "  {'Score': 0.9984732270240784,\n",
              "   'Type': 'DATE',\n",
              "   'Text': '2021년 9월 1일',\n",
              "   'BeginOffset': 8,\n",
              "   'EndOffset': 19},\n",
              "  {'Score': 0.9806908369064331,\n",
              "   'Type': 'PERSON',\n",
              "   'Text': '안용우',\n",
              "   'BeginOffset': 21,\n",
              "   'EndOffset': 24},\n",
              "  {'Score': 0.8942018151283264,\n",
              "   'Type': 'LOCATION',\n",
              "   'Text': '서초구 매헌로',\n",
              "   'BeginOffset': 51,\n",
              "   'EndOffset': 58},\n",
              "  {'Score': 0.4342963695526123,\n",
              "   'Type': 'LOCATION',\n",
              "   'Text': '24',\n",
              "   'BeginOffset': 59,\n",
              "   'EndOffset': 61}],\n",
              " 'ResponseMetadata': {'RequestId': 'f16a52de-d105-41c2-814b-5b6937fecdb4',\n",
              "  'HTTPStatusCode': 200,\n",
              "  'HTTPHeaders': {'x-amzn-requestid': 'f16a52de-d105-41c2-814b-5b6937fecdb4',\n",
              "   'content-type': 'application/x-amz-json-1.1',\n",
              "   'content-length': '499',\n",
              "   'date': 'Wed, 01 Sep 2021 08:13:03 GMT'},\n",
              "  'RetryAttempts': 0}}"
            ]
          },
          "execution_count": 12,
          "metadata": {},
          "output_type": "execute_result"
        }
      ]
    },
    {
      "cell_type": "code",
      "metadata": {
        "id": "WY6pc9sCcrV2"
      },
      "source": [
        ""
      ],
      "execution_count": null,
      "outputs": []
    }
  ]
}