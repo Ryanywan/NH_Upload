{
  "nbformat": 4,
  "nbformat_minor": 5,
  "metadata": {
    "kernelspec": {
      "display_name": "Python 3",
      "language": "python",
      "name": "python3"
    },
    "language_info": {
      "codemirror_mode": {
        "name": "ipython",
        "version": 3
      },
      "file_extension": ".py",
      "mimetype": "text/x-python",
      "name": "python",
      "nbconvert_exporter": "python",
      "pygments_lexer": "ipython3",
      "version": "3.8.5"
    },
    "colab": {
      "name": "Naver_OCR-Manual.ipynb",
      "provenance": [],
      "include_colab_link": true
    }
  },
  "cells": [
    {
      "cell_type": "markdown",
      "metadata": {
        "id": "view-in-github",
        "colab_type": "text"
      },
      "source": [
        "<a href=\"https://colab.research.google.com/github/Ryanywan/NH_Upload/blob/main/Naver_OCR_Manual.ipynb\" target=\"_parent\"><img src=\"https://colab.research.google.com/assets/colab-badge.svg\" alt=\"Open In Colab\"/></a>"
      ]
    },
    {
      "cell_type": "markdown",
      "metadata": {
        "id": "yYshKPaKF7bW"
      },
      "source": [
        "# NCP OCR (Textract) Example\n",
        "## NCP Cloud 연결 및 Pipeline에 필요한 library를 호출합니다."
      ],
      "id": "yYshKPaKF7bW"
    },
    {
      "cell_type": "code",
      "metadata": {
        "id": "eFV59IzUF7ba"
      },
      "source": [
        "import requests\n",
        "import uuid\n",
        "import time\n",
        "import urllib.request\n",
        "import json"
      ],
      "id": "eFV59IzUF7ba",
      "execution_count": null,
      "outputs": []
    },
    {
      "cell_type": "markdown",
      "metadata": {
        "id": "-N_qTCoYF7bb"
      },
      "source": [
        "## 기존 NCP로 작업을 해둔 link와 secret key를 입력하고 필요한 서비스를 호출합니다."
      ],
      "id": "-N_qTCoYF7bb"
    },
    {
      "cell_type": "code",
      "metadata": {
        "id": "rExxW_dVF7bb"
      },
      "source": [
        "api_url = 'https://00ec4bbd061c4f56a126dce23dd82f0b.apigw.ntruss.com/custom/v1/9514/66553d4d7b1f558c9344bec74f1a7539e4ccc343ec5a2d0e3d84f2c4f5f4927f/infer'\n",
        "\n",
        "secret_key = #API Key\n",
        "image_file = '외국인등록증샘플.jpg'\n",
        "\n",
        "output_file = 'output2.json'\n",
        "\n",
        "request_json = {\n",
        "    'images': [\n",
        "        {\n",
        "            'format': 'jpg',\n",
        "            'name': 'demo'\n",
        "        }\n",
        "    ],\n",
        "    'requestId': str(uuid.uuid4()),\n",
        "    'version': 'V2',\n",
        "    'timestamp': int(round(time.time() * 1000))\n",
        "}\n",
        "\n",
        "payload = {'message': json.dumps(request_json).encode('UTF-8')}\n",
        "files = [\n",
        "  ('file', open(image_file,'rb'))\n",
        "]\n",
        "headers = {\n",
        "  'X-OCR-SECRET': secret_key\n",
        "}\n",
        "\n",
        "response = requests.request(\"POST\", api_url, headers=headers, data = payload, files = files)\n",
        "\n",
        "with open(output_file, 'w', encoding='utf-8') as outfile:\n",
        "    json.dump(res, outfile, indent=4, ensure_ascii=False)"
      ],
      "id": "rExxW_dVF7bb",
      "execution_count": null,
      "outputs": []
    },
    {
      "cell_type": "markdown",
      "metadata": {
        "id": "xbzWDaYuF7bc"
      },
      "source": [
        "### Example 1"
      ],
      "id": "xbzWDaYuF7bc"
    },
    {
      "cell_type": "markdown",
      "metadata": {
        "id": "t35SRUmCF7bc"
      },
      "source": [
        "![image.png](attachment:image.png)"
      ],
      "id": "t35SRUmCF7bc"
    },
    {
      "cell_type": "code",
      "metadata": {
        "id": "nKh9g8vYF7bd",
        "outputId": "3515e913-c5ea-4921-ada2-f727c7068623"
      },
      "source": [
        "res = json.loads(response.text.encode('utf8'))\n",
        "res"
      ],
      "id": "nKh9g8vYF7bd",
      "execution_count": null,
      "outputs": [
        {
          "data": {
            "text/plain": [
              "{'version': 'V2',\n",
              " 'requestId': '84c189c7-deb8-4cae-8148-c8e14a5ddccb',\n",
              " 'timestamp': 1632731520245,\n",
              " 'images': [{'uid': '95e591bb86a24c91bf6d73940c20ce7c',\n",
              "   'name': 'demo',\n",
              "   'inferResult': 'SUCCESS',\n",
              "   'message': 'SUCCESS',\n",
              "   'matchedTemplate': {'id': 9186, 'name': 'text1'},\n",
              "   'validationResult': {'result': 'NO_REQUESTED'},\n",
              "   'title': {'name': '외국인등록증',\n",
              "    'boundingPoly': {'vertices': [{'x': 34.0, 'y': 29.0},\n",
              "      {'x': 234.0, 'y': 29.0},\n",
              "      {'x': 234.0, 'y': 77.0},\n",
              "      {'x': 34.0, 'y': 77.0}]},\n",
              "    'inferText': '외국인등록증\\nALIEN REGISTRATION CARD',\n",
              "    'inferConfidence': 0.9959,\n",
              "    'subFields': [{'boundingPoly': {'vertices': [{'x': 34.0, 'y': 29.0},\n",
              "        {'x': 206.0, 'y': 29.0},\n",
              "        {'x': 206.0, 'y': 65.0},\n",
              "        {'x': 34.0, 'y': 65.0}]},\n",
              "      'inferText': '외국인등록증',\n",
              "      'inferConfidence': 0.9999,\n",
              "      'lineBreak': False},\n",
              "     {'boundingPoly': {'vertices': [{'x': 36.0, 'y': 63.0},\n",
              "        {'x': 81.0, 'y': 63.0},\n",
              "        {'x': 81.0, 'y': 76.0},\n",
              "        {'x': 36.0, 'y': 76.0}]},\n",
              "      'inferText': 'ALIEN',\n",
              "      'inferConfidence': 0.9864,\n",
              "      'lineBreak': False},\n",
              "     {'boundingPoly': {'vertices': [{'x': 84.0, 'y': 63.0},\n",
              "        {'x': 187.0, 'y': 63.0},\n",
              "        {'x': 187.0, 'y': 77.0},\n",
              "        {'x': 84.0, 'y': 77.0}]},\n",
              "      'inferText': 'REGISTRATION',\n",
              "      'inferConfidence': 0.9977,\n",
              "      'lineBreak': False},\n",
              "     {'boundingPoly': {'vertices': [{'x': 190.0, 'y': 63.0},\n",
              "        {'x': 234.0, 'y': 63.0},\n",
              "        {'x': 234.0, 'y': 77.0},\n",
              "        {'x': 190.0, 'y': 77.0}]},\n",
              "      'inferText': 'CARD',\n",
              "      'inferConfidence': 0.9996,\n",
              "      'lineBreak': False}]},\n",
              "   'fields': [{'name': '성명',\n",
              "     'valueType': 'ALL',\n",
              "     'boundingPoly': {'vertices': [{'x': 216.0, 'y': 144.0},\n",
              "       {'x': 451.0, 'y': 144.0},\n",
              "       {'x': 451.0, 'y': 165.0},\n",
              "       {'x': 216.0, 'y': 165.0}]},\n",
              "     'inferText': '성 명 HONG SPECIMEN',\n",
              "     'inferConfidence': 0.9978,\n",
              "     'type': 'NORMAL',\n",
              "     'subFields': [{'boundingPoly': {'vertices': [{'x': 216.0, 'y': 144.0},\n",
              "         {'x': 233.0, 'y': 144.0},\n",
              "         {'x': 233.0, 'y': 161.0},\n",
              "         {'x': 216.0, 'y': 161.0}]},\n",
              "       'inferText': '성',\n",
              "       'inferConfidence': 0.9979,\n",
              "       'lineBreak': False},\n",
              "      {'boundingPoly': {'vertices': [{'x': 252.0, 'y': 144.0},\n",
              "         {'x': 269.0, 'y': 144.0},\n",
              "         {'x': 269.0, 'y': 161.0},\n",
              "         {'x': 252.0, 'y': 161.0}]},\n",
              "       'inferText': '명',\n",
              "       'inferConfidence': 0.9961,\n",
              "       'lineBreak': False},\n",
              "      {'boundingPoly': {'vertices': [{'x': 271.0, 'y': 144.0},\n",
              "         {'x': 337.0, 'y': 144.0},\n",
              "         {'x': 337.0, 'y': 165.0},\n",
              "         {'x': 271.0, 'y': 165.0}]},\n",
              "       'inferText': 'HONG',\n",
              "       'inferConfidence': 0.9984,\n",
              "       'lineBreak': False},\n",
              "      {'boundingPoly': {'vertices': [{'x': 342.0, 'y': 145.0},\n",
              "         {'x': 451.0, 'y': 145.0},\n",
              "         {'x': 451.0, 'y': 165.0},\n",
              "         {'x': 342.0, 'y': 165.0}]},\n",
              "       'inferText': 'SPECIMEN',\n",
              "       'inferConfidence': 0.9988,\n",
              "       'lineBreak': True}]}]}]}"
            ]
          },
          "execution_count": 13,
          "metadata": {},
          "output_type": "execute_result"
        }
      ]
    },
    {
      "cell_type": "code",
      "metadata": {
        "id": "PkrOHNRCF7be"
      },
      "source": [
        ""
      ],
      "id": "PkrOHNRCF7be",
      "execution_count": null,
      "outputs": []
    }
  ]
}