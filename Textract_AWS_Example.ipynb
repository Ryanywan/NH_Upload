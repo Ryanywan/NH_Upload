{
  "nbformat": 4,
  "nbformat_minor": 0,
  "metadata": {
    "kernelspec": {
      "display_name": "Python 3",
      "language": "python",
      "name": "python3"
    },
    "language_info": {
      "codemirror_mode": {
        "name": "ipython",
        "version": 3
      },
      "file_extension": ".py",
      "mimetype": "text/x-python",
      "name": "python",
      "nbconvert_exporter": "python",
      "pygments_lexer": "ipython3",
      "version": "3.8.5"
    },
    "colab": {
      "name": "Textract_AWS_Example.ipynb",
      "provenance": [],
      "include_colab_link": true
    }
  },
  "cells": [
    {
      "cell_type": "markdown",
      "metadata": {
        "id": "view-in-github",
        "colab_type": "text"
      },
      "source": [
        "<a href=\"https://colab.research.google.com/github/Ryanywan/NH_Upload/blob/main/Textract_AWS_Example.ipynb\" target=\"_parent\"><img src=\"https://colab.research.google.com/assets/colab-badge.svg\" alt=\"Open In Colab\"/></a>"
      ]
    },
    {
      "cell_type": "markdown",
      "metadata": {
        "id": "rsg41huI-i19"
      },
      "source": [
        "# AWS OCR (Textract) Example\n",
        "## AWS Cloud 연결 Pipeline에 필요한 library를 호출합니다."
      ]
    },
    {
      "cell_type": "code",
      "metadata": {
        "id": "bF1QoJTj-i2A"
      },
      "source": [
        "import boto3"
      ],
      "execution_count": null,
      "outputs": []
    },
    {
      "cell_type": "markdown",
      "metadata": {
        "id": "cxwR-s7O-i2A"
      },
      "source": [
        "## Session을 통해 access key와 secret key를 입력하고 필요한 서비스를 호출합니다."
      ]
    },
    {
      "cell_type": "code",
      "metadata": {
        "id": "H_tSUVaL-i2B"
      },
      "source": [
        "####################### boto3를 이용하여 AWS cloud에 접속합니다. (이메일 로그인과 비슷한 방식) #######################\n",
        "# aws_access_key_id : 아이디\n",
        "# aws_secret_access_key: 패스워드\n",
        "# region_name: 호출 지역\n",
        "# client: 호출서비스\n",
        "\n",
        "textract_client = boto3.Session(\n",
        "                aws_access_key_id= #개인 필수정보 1                  \n",
        "    aws_secret_access_key= #개인 필수정보 2,\n",
        "    region_name='ap-northwest-2').client('textract')"
      ],
      "execution_count": null,
      "outputs": []
    },
    {
      "cell_type": "markdown",
      "metadata": {
        "id": "X4u9xAST-i2C"
      },
      "source": [
        "### Example 1"
      ]
    },
    {
      "cell_type": "markdown",
      "metadata": {
        "id": "zm1i43zT-i2C"
      },
      "source": [
        "![image.png](attachment:image.png)"
      ]
    },
    {
      "cell_type": "markdown",
      "metadata": {
        "id": "z-1pQOqV-i2C"
      },
      "source": [
        "## OCR 서비스를 호출하여 지정한 파일을 읽어줍니다."
      ]
    },
    {
      "cell_type": "code",
      "metadata": {
        "id": "GjubcqV3-i2D",
        "outputId": "43e49813-120b-4749-c935-a7e897b5105e"
      },
      "source": [
        "# 파일지정하기\n",
        "documentname = \"simple-document-image.jpg\"\n",
        "\n",
        "# 문서 내용 읽기\n",
        "with open(documentname, 'rb') as document:\n",
        "    imageBytes = bytearray(document.read())\n",
        "\n",
        "# AWS Textract 호출하기\n",
        "response = textract_client.detect_document_text(Document={'Bytes': imageBytes})\n",
        "\n",
        "# 인식된 text 프린트 하기\n",
        "for item in response[\"Blocks\"]:\n",
        "    if item[\"BlockType\"] == \"LINE\":\n",
        "        print ('\\033[94m' +  item[\"Text\"] + '\\033[0m')"
      ],
      "execution_count": null,
      "outputs": [
        {
          "name": "stdout",
          "output_type": "stream",
          "text": [
            "\u001b[94mAmazon.com, Inc. is located in Seattle, WA\u001b[0m\n",
            "\u001b[94mIt was founded July 5th, 1994 by Jeff Bezos\u001b[0m\n",
            "\u001b[94mAmazon.com allows customers to buy everything from books to blenders\u001b[0m\n",
            "\u001b[94mSeattle is north of Portland and south of Vancouver, BC.\u001b[0m\n"
          ]
        }
      ]
    },
    {
      "cell_type": "markdown",
      "metadata": {
        "id": "1bzSJ2Ki-i2E"
      },
      "source": [
        "### Example 2"
      ]
    },
    {
      "cell_type": "markdown",
      "metadata": {
        "id": "X2F7RXqf-i2F"
      },
      "source": [
        "![image-2.png](attachment:image-2.png)"
      ]
    },
    {
      "cell_type": "code",
      "metadata": {
        "id": "uj1-Mf6E-i2G",
        "outputId": "ce48365c-0e8b-437a-9d4b-5da02897bee6"
      },
      "source": [
        "# Document\n",
        "documentName = 'employmentapp.png'\n",
        "\n",
        "# Read document content\n",
        "with open(documentName, 'rb') as document:\n",
        "    imageBytes = bytearray(document.read())\n",
        "\n",
        "# Call Amazon Textract\n",
        "response = textract.detect_document_text(Document={'Bytes': imageBytes})\n",
        "\n",
        "#print(response)\n",
        "\n",
        "# Print detected text\n",
        "for item in response[\"Blocks\"]:\n",
        "    if item[\"BlockType\"] == \"LINE\":\n",
        "        print ('\\033[94m' +  item[\"Text\"] + '\\033[0m')"
      ],
      "execution_count": null,
      "outputs": [
        {
          "name": "stdout",
          "output_type": "stream",
          "text": [
            "\u001b[94mEmployment Application\u001b[0m\n",
            "\u001b[94mApplicant Information\u001b[0m\n",
            "\u001b[94mFull Name: Jane Doe\u001b[0m\n",
            "\u001b[94mPhone Number: 555-0100\u001b[0m\n",
            "\u001b[94mHome Address: 123 Any Street, Any Town, USA\u001b[0m\n",
            "\u001b[94mMailing Address: same as home address\u001b[0m\n",
            "\u001b[94mPrevious Employment History\u001b[0m\n",
            "\u001b[94mStart Date\u001b[0m\n",
            "\u001b[94mEnd Date\u001b[0m\n",
            "\u001b[94mEmployer Name\u001b[0m\n",
            "\u001b[94mPosition Held\u001b[0m\n",
            "\u001b[94mReason for leaving\u001b[0m\n",
            "\u001b[94m1/15/2009\u001b[0m\n",
            "\u001b[94m6/30/2011\u001b[0m\n",
            "\u001b[94mAny Company\u001b[0m\n",
            "\u001b[94mAssistant Baker\u001b[0m\n",
            "\u001b[94mFamily relocated\u001b[0m\n",
            "\u001b[94m7/1/2011\u001b[0m\n",
            "\u001b[94m8/10/2013\u001b[0m\n",
            "\u001b[94mBest Corp.\u001b[0m\n",
            "\u001b[94mBaker\u001b[0m\n",
            "\u001b[94mBetter opportunity\u001b[0m\n",
            "\u001b[94m8/15/2013\u001b[0m\n",
            "\u001b[94mpresent\u001b[0m\n",
            "\u001b[94mExample Corp.\u001b[0m\n",
            "\u001b[94mHead Baker\u001b[0m\n",
            "\u001b[94mN/A, current\u001b[0m\n",
            "\u001b[94memployer\u001b[0m\n"
          ]
        }
      ]
    },
    {
      "cell_type": "code",
      "metadata": {
        "id": "wNGp6pr5-i2G"
      },
      "source": [
        ""
      ],
      "execution_count": null,
      "outputs": []
    }
  ]
}